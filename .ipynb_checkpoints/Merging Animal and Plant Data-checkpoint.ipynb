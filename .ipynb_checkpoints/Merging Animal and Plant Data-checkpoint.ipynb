{
 "cells": [
  {
   "cell_type": "code",
   "execution_count": 3,
   "metadata": {},
   "outputs": [],
   "source": [
    "import pandas as pd"
   ]
  },
  {
   "cell_type": "code",
   "execution_count": 15,
   "metadata": {},
   "outputs": [],
   "source": [
    "# load the anmimal and plant data sets from csv\n",
    "animal_data = pd.read_csv(\"Data/species-listings-by-tax-group-report_animals.csv\")\n",
    "plant_data = pd.read_csv(\"Data/species-listings-by-tax-group-report_plants.csv\")\n",
    "\n",
    "# append the data, since both have the same variables\n",
    "animals_and_plants_data = animal_data.append(plant_data)\n",
    "\n",
    "# output the result into another csv file\n",
    "animals_and_plants_data.to_csv(\"Data/species-listings-by-tax-group-report_animals_and_plants.csv\")"
   ]
  }
 ],
 "metadata": {
  "kernelspec": {
   "display_name": "Python 3",
   "language": "python",
   "name": "python3"
  },
  "language_info": {
   "codemirror_mode": {
    "name": "ipython",
    "version": 3
   },
   "file_extension": ".py",
   "mimetype": "text/x-python",
   "name": "python",
   "nbconvert_exporter": "python",
   "pygments_lexer": "ipython3",
   "version": "3.8.5"
  }
 },
 "nbformat": 4,
 "nbformat_minor": 4
}
