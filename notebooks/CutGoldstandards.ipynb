{
 "cells": [
  {
   "cell_type": "markdown",
   "metadata": {},
   "source": [
    "# Cut and reformat Goldstandards"
   ]
  },
  {
   "cell_type": "code",
   "execution_count": 1,
   "metadata": {},
   "outputs": [],
   "source": [
    "import pandas as pd\n",
    "from sklearn.utils import shuffle\n"
   ]
  },
  {
   "cell_type": "code",
   "execution_count": 2,
   "metadata": {},
   "outputs": [],
   "source": [
    "# paths\n",
    "path_gs_dir    = '../Data/goldstandard/'\n",
    "path_ir_gs     = '../JavaProjectUsingWinter/data/goldstandard/'\n",
    "\n",
    "path_wd_input  = path_gs_dir + 'intermediates/gs_biodiversity_wikidata.xlsx'\n",
    "path_es_input  = path_ir_gs  + 'gs_biodiversity_endangeredSpecies.csv'\n",
    "\n",
    "path_wd_full_output  = path_ir_gs + 'gs_biodiversity_wikidata_full.csv'\n",
    "path_wd_test_output  = path_ir_gs + 'gs_biodiversity_wikidata_test.csv'\n",
    "path_wd_train_output = path_ir_gs + 'gs_biodiversity_wikidata_train.csv'\n",
    "path_es_full_output  = path_ir_gs + 'gs_biodiversity_endangeredSpecies_full.csv'\n",
    "path_es_test_output  = path_ir_gs + 'gs_biodiversity_endangeredSpecies_test.csv'\n",
    "path_es_train_output = path_ir_gs + 'gs_biodiversity_endangeredSpecies_train.csv'"
   ]
  },
  {
   "cell_type": "code",
   "execution_count": 3,
   "metadata": {},
   "outputs": [
    {
     "data": {
      "text/plain": [
       "(282, 3)"
      ]
     },
     "metadata": {},
     "output_type": "display_data"
    },
    {
     "data": {
      "text/html": [
       "<div>\n",
       "<style scoped>\n",
       "    .dataframe tbody tr th:only-of-type {\n",
       "        vertical-align: middle;\n",
       "    }\n",
       "\n",
       "    .dataframe tbody tr th {\n",
       "        vertical-align: top;\n",
       "    }\n",
       "\n",
       "    .dataframe thead th {\n",
       "        text-align: right;\n",
       "    }\n",
       "</style>\n",
       "<table border=\"1\" class=\"dataframe\">\n",
       "  <thead>\n",
       "    <tr style=\"text-align: right;\">\n",
       "      <th></th>\n",
       "      <th>id1</th>\n",
       "      <th>id2</th>\n",
       "      <th>match</th>\n",
       "    </tr>\n",
       "  </thead>\n",
       "  <tbody>\n",
       "    <tr>\n",
       "      <th>0</th>\n",
       "      <td>BIO31710</td>\n",
       "      <td>http://www.wikidata.org/entity/q794337</td>\n",
       "      <td>True</td>\n",
       "    </tr>\n",
       "    <tr>\n",
       "      <th>1</th>\n",
       "      <td>BIO40264</td>\n",
       "      <td>http://www.wikidata.org/entity/q1770032</td>\n",
       "      <td>True</td>\n",
       "    </tr>\n",
       "    <tr>\n",
       "      <th>2</th>\n",
       "      <td>BIO11144</td>\n",
       "      <td>http://www.wikidata.org/entity/q941102</td>\n",
       "      <td>True</td>\n",
       "    </tr>\n",
       "  </tbody>\n",
       "</table>\n",
       "</div>"
      ],
      "text/plain": [
       "        id1                                      id2  match\n",
       "0  BIO31710   http://www.wikidata.org/entity/q794337   True\n",
       "1  BIO40264  http://www.wikidata.org/entity/q1770032   True\n",
       "2  BIO11144   http://www.wikidata.org/entity/q941102   True"
      ]
     },
     "metadata": {},
     "output_type": "display_data"
    },
    {
     "data": {
      "text/plain": [
       "(385, 3)"
      ]
     },
     "metadata": {},
     "output_type": "display_data"
    },
    {
     "data": {
      "text/html": [
       "<div>\n",
       "<style scoped>\n",
       "    .dataframe tbody tr th:only-of-type {\n",
       "        vertical-align: middle;\n",
       "    }\n",
       "\n",
       "    .dataframe tbody tr th {\n",
       "        vertical-align: top;\n",
       "    }\n",
       "\n",
       "    .dataframe thead th {\n",
       "        text-align: right;\n",
       "    }\n",
       "</style>\n",
       "<table border=\"1\" class=\"dataframe\">\n",
       "  <thead>\n",
       "    <tr style=\"text-align: right;\">\n",
       "      <th></th>\n",
       "      <th>id1</th>\n",
       "      <th>id2</th>\n",
       "      <th>match</th>\n",
       "    </tr>\n",
       "  </thead>\n",
       "  <tbody>\n",
       "    <tr>\n",
       "      <th>0</th>\n",
       "      <td>BIO05795</td>\n",
       "      <td>ES1416</td>\n",
       "      <td>True</td>\n",
       "    </tr>\n",
       "    <tr>\n",
       "      <th>1</th>\n",
       "      <td>BIO05795</td>\n",
       "      <td>ES1416</td>\n",
       "      <td>True</td>\n",
       "    </tr>\n",
       "    <tr>\n",
       "      <th>2</th>\n",
       "      <td>BIO07214</td>\n",
       "      <td>ES1627</td>\n",
       "      <td>True</td>\n",
       "    </tr>\n",
       "  </tbody>\n",
       "</table>\n",
       "</div>"
      ],
      "text/plain": [
       "        id1     id2  match\n",
       "0  BIO05795  ES1416   True\n",
       "1  BIO05795  ES1416   True\n",
       "2  BIO07214  ES1627   True"
      ]
     },
     "metadata": {},
     "output_type": "display_data"
    }
   ],
   "source": [
    "columns = ['id1', 'id2', 'match']\n",
    "df_wd = pd.read_excel(path_wd_input, header=None, names=columns)\n",
    "df_es = pd.read_csv(path_es_input,   header=None, names=columns)\n",
    "\n",
    "display(df_wd.shape, df_wd.head(3))\n",
    "display(df_es.shape, df_es.head(3))"
   ]
  },
  {
   "cell_type": "code",
   "execution_count": 4,
   "metadata": {},
   "outputs": [],
   "source": [
    "def convertMatch(val):\n",
    "    if val:\n",
    "        val = 'TRUE'\n",
    "    else:\n",
    "        val = 'FALSE'\n",
    "    return val\n",
    "\n",
    "def createGS(df):\n",
    "    split        = 0.7\n",
    "    #df           = df_es #df_wd\n",
    "    df_out_full  = pd.DataFrame(columns=columns)\n",
    "    df_out_test  = pd.DataFrame(columns=columns)\n",
    "    df_out_train = pd.DataFrame(columns=columns)\n",
    "    true_false   = df.match.unique()#[True, False]\n",
    "\n",
    "    nr_true             = len(df[df.match == True])\n",
    "    nr_false            = len(df[df.match == False])\n",
    "    nr_balanced_matches = min(nr_true, nr_false)\n",
    "\n",
    "\n",
    "    for match in true_false:\n",
    "        df_out_full = pd.concat([df_out_full, df[df.match == match].sample(n=nr_balanced_matches)])    \n",
    "    df_out_full = shuffle(df_out_full).reset_index(drop=True)\n",
    "    \n",
    "\n",
    "\n",
    "    nr_train = int(split * nr_balanced_matches)\n",
    "\n",
    "\n",
    "    for match in true_false:\n",
    "        df_match = df_out_full[df_out_full.match == match].reset_index(drop=True)\n",
    "        df_train_match = df_match.loc[:nr_train]\n",
    "        df_test_match  = df_match.loc[nr_train:]\n",
    "\n",
    "        df_out_train = pd.concat([df_out_train, df_train_match])\n",
    "        df_out_test  = pd.concat([df_out_test,  df_test_match])\n",
    "\n",
    "    df_out_full.match  = df_out_full.match.apply(lambda x: convertMatch(x))\n",
    "    df_out_test.match  = df_out_test.match.apply(lambda x: convertMatch(x))\n",
    "    df_out_train.match = df_out_train.match.apply(lambda x: convertMatch(x))\n",
    "\n",
    "    return df_out_full, df_out_test, df_out_train\n",
    "\n",
    "\n",
    "df_out_full_wd, df_out_test_wd, df_out_train_wd = createGS(df_wd)\n",
    "df_out_full_es, df_out_test_es, df_out_train_es = createGS(df_es)"
   ]
  },
  {
   "cell_type": "code",
   "execution_count": 5,
   "metadata": {},
   "outputs": [],
   "source": [
    "def saveToCSV(df, path):\n",
    "    df.to_csv(path, header=False, index=False)\n",
    "    \n",
    "saveToCSV(df_out_full_wd,  path_wd_full_output)  \n",
    "saveToCSV(df_out_test_wd,  path_wd_test_output)  \n",
    "saveToCSV(df_out_train_wd, path_wd_train_output)  \n",
    "saveToCSV(df_out_full_es,  path_es_full_output)  \n",
    "saveToCSV(df_out_test_es,  path_es_test_output)  \n",
    "saveToCSV(df_out_train_es, path_es_train_output)  "
   ]
  },
  {
   "cell_type": "code",
   "execution_count": 6,
   "metadata": {},
   "outputs": [
    {
     "data": {
      "text/html": [
       "<div>\n",
       "<style scoped>\n",
       "    .dataframe tbody tr th:only-of-type {\n",
       "        vertical-align: middle;\n",
       "    }\n",
       "\n",
       "    .dataframe tbody tr th {\n",
       "        vertical-align: top;\n",
       "    }\n",
       "\n",
       "    .dataframe thead th {\n",
       "        text-align: right;\n",
       "    }\n",
       "</style>\n",
       "<table border=\"1\" class=\"dataframe\">\n",
       "  <thead>\n",
       "    <tr style=\"text-align: right;\">\n",
       "      <th></th>\n",
       "      <th>id1</th>\n",
       "      <th>id2</th>\n",
       "      <th>match</th>\n",
       "    </tr>\n",
       "  </thead>\n",
       "  <tbody>\n",
       "    <tr>\n",
       "      <th>0</th>\n",
       "      <td>BIO07840</td>\n",
       "      <td>http://www.wikidata.org/entity/q839349</td>\n",
       "      <td>FALSE</td>\n",
       "    </tr>\n",
       "    <tr>\n",
       "      <th>1</th>\n",
       "      <td>BIO06384</td>\n",
       "      <td>http://www.wikidata.org/entity/q1260070</td>\n",
       "      <td>TRUE</td>\n",
       "    </tr>\n",
       "    <tr>\n",
       "      <th>2</th>\n",
       "      <td>BIO06888</td>\n",
       "      <td>http://www.wikidata.org/entity/q579713</td>\n",
       "      <td>TRUE</td>\n",
       "    </tr>\n",
       "    <tr>\n",
       "      <th>3</th>\n",
       "      <td>BIO36966</td>\n",
       "      <td>http://www.wikidata.org/entity/q312119</td>\n",
       "      <td>TRUE</td>\n",
       "    </tr>\n",
       "    <tr>\n",
       "      <th>4</th>\n",
       "      <td>BIO29500</td>\n",
       "      <td>http://www.wikidata.org/entity/q76471</td>\n",
       "      <td>TRUE</td>\n",
       "    </tr>\n",
       "    <tr>\n",
       "      <th>...</th>\n",
       "      <td>...</td>\n",
       "      <td>...</td>\n",
       "      <td>...</td>\n",
       "    </tr>\n",
       "    <tr>\n",
       "      <th>277</th>\n",
       "      <td>BIO38864</td>\n",
       "      <td>http://www.wikidata.org/entity/q550382</td>\n",
       "      <td>TRUE</td>\n",
       "    </tr>\n",
       "    <tr>\n",
       "      <th>278</th>\n",
       "      <td>BIO38300</td>\n",
       "      <td>http://www.wikidata.org/entity/q1523894</td>\n",
       "      <td>TRUE</td>\n",
       "    </tr>\n",
       "    <tr>\n",
       "      <th>279</th>\n",
       "      <td>BIO00236</td>\n",
       "      <td>http://www.wikidata.org/entity/q2038905</td>\n",
       "      <td>FALSE</td>\n",
       "    </tr>\n",
       "    <tr>\n",
       "      <th>280</th>\n",
       "      <td>BIO40215</td>\n",
       "      <td>http://www.wikidata.org/entity/q2099113</td>\n",
       "      <td>FALSE</td>\n",
       "    </tr>\n",
       "    <tr>\n",
       "      <th>281</th>\n",
       "      <td>BIO42952</td>\n",
       "      <td>http://www.wikidata.org/entity/q1044378</td>\n",
       "      <td>TRUE</td>\n",
       "    </tr>\n",
       "  </tbody>\n",
       "</table>\n",
       "<p>282 rows × 3 columns</p>\n",
       "</div>"
      ],
      "text/plain": [
       "          id1                                      id2  match\n",
       "0    BIO07840   http://www.wikidata.org/entity/q839349  FALSE\n",
       "1    BIO06384  http://www.wikidata.org/entity/q1260070   TRUE\n",
       "2    BIO06888   http://www.wikidata.org/entity/q579713   TRUE\n",
       "3    BIO36966   http://www.wikidata.org/entity/q312119   TRUE\n",
       "4    BIO29500    http://www.wikidata.org/entity/q76471   TRUE\n",
       "..        ...                                      ...    ...\n",
       "277  BIO38864   http://www.wikidata.org/entity/q550382   TRUE\n",
       "278  BIO38300  http://www.wikidata.org/entity/q1523894   TRUE\n",
       "279  BIO00236  http://www.wikidata.org/entity/q2038905  FALSE\n",
       "280  BIO40215  http://www.wikidata.org/entity/q2099113  FALSE\n",
       "281  BIO42952  http://www.wikidata.org/entity/q1044378   TRUE\n",
       "\n",
       "[282 rows x 3 columns]"
      ]
     },
     "execution_count": 6,
     "metadata": {},
     "output_type": "execute_result"
    }
   ],
   "source": [
    "df_out_full_wd"
   ]
  },
  {
   "cell_type": "code",
   "execution_count": 7,
   "metadata": {},
   "outputs": [
    {
     "name": "stdout",
     "output_type": "stream",
     "text": [
      "282 236 518\n"
     ]
    }
   ],
   "source": [
    "wd_nr = len(df_out_full_wd)\n",
    "es_nr = len(df_out_full_es)\n",
    "print(wd_nr, es_nr, wd_nr + es_nr)"
   ]
  }
 ],
 "metadata": {
  "kernelspec": {
   "display_name": "Python 3",
   "language": "python",
   "name": "python3"
  },
  "language_info": {
   "codemirror_mode": {
    "name": "ipython",
    "version": 3
   },
   "file_extension": ".py",
   "mimetype": "text/x-python",
   "name": "python",
   "nbconvert_exporter": "python",
   "pygments_lexer": "ipython3",
   "version": "3.7.6"
  }
 },
 "nbformat": 4,
 "nbformat_minor": 4
}
