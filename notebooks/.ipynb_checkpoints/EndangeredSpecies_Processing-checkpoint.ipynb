{
 "cells": [
  {
   "cell_type": "code",
   "execution_count": 1,
   "metadata": {},
   "outputs": [
    {
     "data": {
      "text/plain": [
       "'1.3.4'"
      ]
     },
     "execution_count": 1,
     "metadata": {},
     "output_type": "execute_result"
    }
   ],
   "source": [
    "# Data processing of the \"FWS-Listed U.S. Species by Taxonomic Group\" dataset\n",
    "# https://www.fws.gov/endangered/species/index.html\n",
    "\n",
    "# importing packages\n",
    "import pandas as pd\n",
    "pd.__version__\n",
    "#from lxml import etree"
   ]
  },
  {
   "cell_type": "code",
   "execution_count": 13,
   "metadata": {},
   "outputs": [
    {
     "name": "stdout",
     "output_type": "stream",
     "text": [
      "                     scientific_name        common_name    where_listed  \\\n",
      "0             Pediocactus knowltonii  Knowlton's cactus  Wherever found   \n",
      "1                Schiedea sarmentosa     No common name  Wherever found   \n",
      "2  Deinandra increscens ssp. villosa   Gaviota Tarplant  Wherever found   \n",
      "\n",
      "   region        region_name esa_listing_status          category  \n",
      "0       2          Southwest         Endangered  Flowering Plants  \n",
      "1       1            Pacific         Endangered  Flowering Plants  \n",
      "2       8  Pacific Southwest         Endangered  Flowering Plants  \n"
     ]
    }
   ],
   "source": [
    "# merging .csv files\n",
    "df = pd.concat(map(pd.read_csv, ['../Data/species-listings-by-tax-group-report_plants.csv', '../Data/species-listings-by-tax-group-report_animals.csv']), ignore_index=True)\n",
    "#df.index.name='ID'\n",
    "\n",
    "# change column names (spaces to underscore, lower case, \"group\" to \"category\"\n",
    "df = df.rename(columns={\"Group\": \"category\"})\n",
    "df.columns = [c.replace(' ', '_') for c in df.columns]\n",
    "df.columns = df.columns.str.lower()\n",
    "\n",
    "# add a column with region names based on \"region\" number\n",
    "dicRegionNames = {1: \"Pacific\", 2: \"Southwest\", 3: \"Midwest\", 4: \"Southeast\", 5: \"Northeast\", 6: \"Mountain-Prairie\", 7: \"Alaska\", 8: \"Pacific Southwest\"}\n",
    "df.insert(4, 'region_name', '')\n",
    "df['region_name'] = df['region'].map(dicRegionNames)\n",
    "print(df.head(3))\n",
    "\n",
    "# drop duplicates based in \"Scientific Name\", but keep the first entry\n",
    "#df.drop_duplicates(subset = ['ScientificName'], keep = 'first')\n",
    "\n",
    "# drop \"Where Listed\" column from DataFrame\n",
    "#df = df.drop('WhereListed', 1)\n",
    "\n",
    "# dropping all values with a special ESA Listing Status (72 entries in total)\n",
    "df = df[df.esa_listing_status != 'Experimental Population, Non-Essential'] #(64 entries)\n",
    "df = df[df.esa_listing_status != 'Similarity of Appearance (Threatened)'] #(8 entries)\n"
   ]
  },
  {
   "cell_type": "code",
   "execution_count": 15,
   "metadata": {},
   "outputs": [],
   "source": [
    "# save DataFrame to .csv\n",
    "df.to_csv('../Data/species-listings-by-tax-group-report_animals_and_plants_optimized.csv', index = False)"
   ]
  },
  {
   "cell_type": "code",
   "execution_count": 16,
   "metadata": {},
   "outputs": [],
   "source": [
    "# save DataFrame to .xml\n",
    "df.to_xml('../xml/endangered-species.xml', index=False, root_name='animals_and_plants', row_name='species')"
   ]
  }
 ],
 "metadata": {
  "kernelspec": {
   "display_name": "Python 3",
   "language": "python",
   "name": "python3"
  },
  "language_info": {
   "codemirror_mode": {
    "name": "ipython",
    "version": 3
   },
   "file_extension": ".py",
   "mimetype": "text/x-python",
   "name": "python",
   "nbconvert_exporter": "python",
   "pygments_lexer": "ipython3",
   "version": "3.7.6"
  }
 },
 "nbformat": 4,
 "nbformat_minor": 4
}
