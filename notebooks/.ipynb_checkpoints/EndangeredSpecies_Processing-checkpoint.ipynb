{
 "cells": [
  {
   "cell_type": "code",
   "execution_count": 1,
   "metadata": {},
   "outputs": [
    {
     "data": {
      "text/plain": [
       "'1.1.3'"
      ]
     },
     "execution_count": 1,
     "metadata": {},
     "output_type": "execute_result"
    }
   ],
   "source": [
    "# Data processing of the \"FWS-Listed U.S. Species by Taxonomic Group\" dataset\n",
    "# https://www.fws.gov/endangered/species/index.html\n",
    "\n",
    "# importing packages\n",
    "import pandas as pd\n",
    "import lxml\n",
    "\n",
    "pd.__version__"
   ]
  },
  {
   "cell_type": "code",
   "execution_count": 9,
   "metadata": {},
   "outputs": [
    {
     "name": "stdout",
     "output_type": "stream",
     "text": [
      "                        scientific_name        common_name    where_listed  \\\n",
      "0                Pediocactus knowltonii  Knowlton's cactus  Wherever found   \n",
      "1                   Schiedea sarmentosa     No common name  Wherever found   \n",
      "2     Deinandra increscens ssp. villosa   Gaviota Tarplant  Wherever found   \n",
      "3                     Silene lanceolata     No common name  Wherever found   \n",
      "4  Bidens campylotheca ssp. waihoiensis        Ko`oko`olau  Wherever found   \n",
      "\n",
      "   region        region_name esa_listing_status          category  \n",
      "0       2          Southwest         Endangered  Flowering Plants  \n",
      "1       1            Pacific         Endangered  Flowering Plants  \n",
      "2       8  Pacific Southwest         Endangered  Flowering Plants  \n",
      "3       1            Pacific         Endangered  Flowering Plants  \n",
      "4       1            Pacific         Endangered  Flowering Plants  \n"
     ]
    }
   ],
   "source": [
    "# merging .csv files\n",
    "df = pd.concat(map(pd.read_csv, ['../Data/species-listings-by-tax-group-report_plants.csv', '../Data/species-listings-by-tax-group-report_animals.csv']), ignore_index=True)\n",
    "#df.index.name='ID'\n",
    "\n",
    "# change column names (spaces to underscore, lower case, \"group\" to \"category\"\n",
    "df = df.rename(columns={\"Group\": \"category\"})\n",
    "df.columns = [c.replace(' ', '_') for c in df.columns]\n",
    "df.columns = df.columns.str.lower()\n",
    "\n",
    "# add a column with region names based on \"region\" number\n",
    "dicRegionNames = {1: \"Pacific\", 2: \"Southwest\", 3: \"Midwest\", 4: \"Southeast\", 5: \"Northeast\", 6: \"Mountain-Prairie\", 7: \"Alaska\", 8: \"Pacific Southwest\"}\n",
    "df.insert(4, 'region_name', '')\n",
    "df['region_name'] = df['region'].map(dicRegionNames)\n",
    "\n",
    "# dropping all values with special \"ESA Listing Status\" (72 entries in total)\n",
    "df = df[df.esa_listing_status != 'Experimental Population, Non-Essential'] #(64 entries)\n",
    "df = df[df.esa_listing_status != 'Similarity of Appearance (Threatened)'] #(8 entries)\n",
    "\n",
    "# merge duplicates based on \"scientific_name\"\n",
    "#df = df.groupby([df.scientific_name])['where_listed'].apply(', '.join).reset_index()\n",
    "print(df.head())\n",
    "\n",
    "# drop duplicates based on \"scientific_name\", but keep the first entry\n",
    "#df.drop_duplicates(subset = ['scientific_name'], keep = 'first')\n",
    "\n",
    "# drop \"Where Listed\" column from DataFrame\n",
    "#df = df.drop('WhereListed', 1)\n",
    "\n"
   ]
  },
  {
   "cell_type": "code",
   "execution_count": 10,
   "metadata": {},
   "outputs": [],
   "source": [
    "# define function to collaps duplicates in list \n",
    "#lambda df: lang_pred_with_pub(df)\n",
    "def collaps_to_set(dataFrame):\n",
    "    \n",
    "    # build in check if group contains more thans one entry\n",
    "    if len(dataFrame) <= 1:\n",
    "        return dataFrame\n",
    "    \n",
    "    # collaps where_listed\n",
    "    # should return a list of the series\n",
    "    where_listed_list = list(dataFrame['where_listed'].unique())\n",
    "    \n",
    "    # set all rows to the list name\n",
    "    dataFrame['where_listed'] = str(where_listed_set)\n",
    "    \n",
    "    \n",
    "    # collaps region\n",
    "    # should return a list of the series\n",
    "    where_listed_list = list(dataFrame['region'].unique())\n",
    "    \n",
    "    # set all rows to the list name\n",
    "    dataFrame['region'] = str(where_listed_set)\n",
    "    \n",
    "    \n",
    "    # collaps region_name\n",
    "    # should return a list of the series\n",
    "    where_listed_list = list(dataFrame['region_name'].unique())\n",
    "    \n",
    "    # set all rows to the list name\n",
    "    dataFrame['region_name'] = str(where_listed_set)\n",
    "    \n",
    "    \n",
    "    # collaps esa_listing_status\n",
    "    # should return a list of the series\n",
    "    where_listed_list = list(dataFrame['esa_listing_status'].unique())\n",
    "    \n",
    "    # set all rows to the list name\n",
    "    dataFrame['esa_listing_status'] = str(where_listed_set)\n",
    "    \n",
    "    \n",
    "    # return only one row from the data frame\n",
    "    return_row = dataFrame.iloc[[0],:]\n",
    "    \n",
    "    return return_row\n"
   ]
  },
  {
   "cell_type": "code",
   "execution_count": 11,
   "metadata": {},
   "outputs": [],
   "source": [
    "df = df.groupby('scientific_name').apply(lambda x: collaps_to_set(x))"
   ]
  },
  {
   "cell_type": "code",
   "execution_count": 12,
   "metadata": {},
   "outputs": [
    {
     "data": {
      "text/html": [
       "<div>\n",
       "<style scoped>\n",
       "    .dataframe tbody tr th:only-of-type {\n",
       "        vertical-align: middle;\n",
       "    }\n",
       "\n",
       "    .dataframe tbody tr th {\n",
       "        vertical-align: top;\n",
       "    }\n",
       "\n",
       "    .dataframe thead th {\n",
       "        text-align: right;\n",
       "    }\n",
       "</style>\n",
       "<table border=\"1\" class=\"dataframe\">\n",
       "  <thead>\n",
       "    <tr style=\"text-align: right;\">\n",
       "      <th></th>\n",
       "      <th></th>\n",
       "      <th>scientific_name</th>\n",
       "      <th>common_name</th>\n",
       "      <th>where_listed</th>\n",
       "      <th>region</th>\n",
       "      <th>region_name</th>\n",
       "      <th>esa_listing_status</th>\n",
       "      <th>category</th>\n",
       "    </tr>\n",
       "    <tr>\n",
       "      <th>scientific_name</th>\n",
       "      <th></th>\n",
       "      <th></th>\n",
       "      <th></th>\n",
       "      <th></th>\n",
       "      <th></th>\n",
       "      <th></th>\n",
       "      <th></th>\n",
       "      <th></th>\n",
       "    </tr>\n",
       "  </thead>\n",
       "  <tbody>\n",
       "    <tr>\n",
       "      <th>Chelonia mydas</th>\n",
       "      <th>1005</th>\n",
       "      <td>Chelonia mydas</td>\n",
       "      <td>Green sea turtle</td>\n",
       "      <td>['North Atlantic DPS', 'South Atlantic DPS', '...</td>\n",
       "      <td>[4, 1, 8]</td>\n",
       "      <td>['Southeast', 'Pacific', 'Pacific Southwest']</td>\n",
       "      <td>['Threatened', 'Endangered']</td>\n",
       "      <td>Reptiles</td>\n",
       "    </tr>\n",
       "  </tbody>\n",
       "</table>\n",
       "</div>"
      ],
      "text/plain": [
       "                     scientific_name       common_name  \\\n",
       "scientific_name                                          \n",
       "Chelonia mydas  1005  Chelonia mydas  Green sea turtle   \n",
       "\n",
       "                                                           where_listed  \\\n",
       "scientific_name                                                           \n",
       "Chelonia mydas  1005  ['North Atlantic DPS', 'South Atlantic DPS', '...   \n",
       "\n",
       "                         region  \\\n",
       "scientific_name                   \n",
       "Chelonia mydas  1005  [4, 1, 8]   \n",
       "\n",
       "                                                        region_name  \\\n",
       "scientific_name                                                       \n",
       "Chelonia mydas  1005  ['Southeast', 'Pacific', 'Pacific Southwest']   \n",
       "\n",
       "                                esa_listing_status  category  \n",
       "scientific_name                                               \n",
       "Chelonia mydas  1005  ['Threatened', 'Endangered']  Reptiles  "
      ]
     },
     "execution_count": 12,
     "metadata": {},
     "output_type": "execute_result"
    }
   ],
   "source": [
    "df[df['scientific_name'] == 'Chelonia mydas']"
   ]
  },
  {
   "cell_type": "code",
   "execution_count": 17,
   "metadata": {},
   "outputs": [],
   "source": [
    "# save DataFrame to .csv\n",
    "df.to_csv('../Data/species-listings-by-tax-group-report_animals_and_plants_optimized.csv', index = False)"
   ]
  },
  {
   "cell_type": "code",
   "execution_count": 18,
   "metadata": {},
   "outputs": [
    {
     "ename": "AttributeError",
     "evalue": "'DataFrame' object has no attribute 'to_xml'",
     "output_type": "error",
     "traceback": [
      "\u001b[1;31m---------------------------------------------------------------------------\u001b[0m",
      "\u001b[1;31mAttributeError\u001b[0m                            Traceback (most recent call last)",
      "\u001b[1;32m<ipython-input-18-e767f8a31f79>\u001b[0m in \u001b[0;36m<module>\u001b[1;34m\u001b[0m\n\u001b[0;32m      1\u001b[0m \u001b[1;31m# save DataFrame to .xml\u001b[0m\u001b[1;33m\u001b[0m\u001b[1;33m\u001b[0m\u001b[1;33m\u001b[0m\u001b[0m\n\u001b[0;32m      2\u001b[0m \u001b[1;31m#df.to_xml('../xml/endangered-species.xml', index=False, root_name='animals_and_plants', row_name='species')\u001b[0m\u001b[1;33m\u001b[0m\u001b[1;33m\u001b[0m\u001b[1;33m\u001b[0m\u001b[0m\n\u001b[1;32m----> 3\u001b[1;33m \u001b[0mprint\u001b[0m\u001b[1;33m(\u001b[0m\u001b[0mdf\u001b[0m\u001b[1;33m.\u001b[0m\u001b[0mto_xml\u001b[0m\u001b[1;33m(\u001b[0m\u001b[0mindex\u001b[0m\u001b[1;33m=\u001b[0m\u001b[1;32mFalse\u001b[0m\u001b[1;33m,\u001b[0m \u001b[0mroot_name\u001b[0m\u001b[1;33m=\u001b[0m\u001b[1;34m'animals_and_plants'\u001b[0m\u001b[1;33m,\u001b[0m \u001b[0mrow_name\u001b[0m\u001b[1;33m=\u001b[0m\u001b[1;34m'species'\u001b[0m\u001b[1;33m)\u001b[0m\u001b[1;33m)\u001b[0m\u001b[1;33m\u001b[0m\u001b[1;33m\u001b[0m\u001b[0m\n\u001b[0m",
      "\u001b[1;32m~\\anaconda3\\lib\\site-packages\\pandas\\core\\generic.py\u001b[0m in \u001b[0;36m__getattr__\u001b[1;34m(self, name)\u001b[0m\n\u001b[0;32m   5137\u001b[0m         \u001b[1;33m>>\u001b[0m\u001b[1;33m>\u001b[0m \u001b[0mdf\u001b[0m\u001b[1;33m.\u001b[0m\u001b[0mtail\u001b[0m\u001b[1;33m(\u001b[0m\u001b[1;33m-\u001b[0m\u001b[1;36m3\u001b[0m\u001b[1;33m)\u001b[0m\u001b[1;33m\u001b[0m\u001b[1;33m\u001b[0m\u001b[0m\n\u001b[0;32m   5138\u001b[0m            \u001b[0manimal\u001b[0m\u001b[1;33m\u001b[0m\u001b[1;33m\u001b[0m\u001b[0m\n\u001b[1;32m-> 5139\u001b[1;33m         \u001b[1;36m3\u001b[0m    \u001b[0mlion\u001b[0m\u001b[1;33m\u001b[0m\u001b[1;33m\u001b[0m\u001b[0m\n\u001b[0m\u001b[0;32m   5140\u001b[0m         \u001b[1;36m4\u001b[0m  \u001b[0mmonkey\u001b[0m\u001b[1;33m\u001b[0m\u001b[1;33m\u001b[0m\u001b[0m\n\u001b[0;32m   5141\u001b[0m         \u001b[1;36m5\u001b[0m  \u001b[0mparrot\u001b[0m\u001b[1;33m\u001b[0m\u001b[1;33m\u001b[0m\u001b[0m\n",
      "\u001b[1;31mAttributeError\u001b[0m: 'DataFrame' object has no attribute 'to_xml'"
     ]
    }
   ],
   "source": [
    "# save DataFrame to .xml\n",
    "#df.to_xml('../xml/endangered-species.xml', index=False, root_name='animals_and_plants', row_name='species')\n",
    "print(df.to_xml(index=False, root_name='animals_and_plants', row_name='species'))"
   ]
  },
  {
   "cell_type": "code",
   "execution_count": null,
   "metadata": {},
   "outputs": [],
   "source": []
  }
 ],
 "metadata": {
  "kernelspec": {
   "display_name": "Python 3",
   "language": "python",
   "name": "python3"
  },
  "language_info": {
   "codemirror_mode": {
    "name": "ipython",
    "version": 3
   },
   "file_extension": ".py",
   "mimetype": "text/x-python",
   "name": "python",
   "nbconvert_exporter": "python",
   "pygments_lexer": "ipython3",
   "version": "3.8.5"
  }
 },
 "nbformat": 4,
 "nbformat_minor": 4
}
