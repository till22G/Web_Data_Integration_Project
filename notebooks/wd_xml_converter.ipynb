{
 "cells": [
  {
   "cell_type": "markdown",
   "metadata": {},
   "source": [
    "# Wikidata csv to xml converter"
   ]
  },
  {
   "cell_type": "code",
   "execution_count": 1,
   "metadata": {},
   "outputs": [],
   "source": [
    "# read in data\n",
    "path_kev = '../data/wikidata/wd_species_df_kev.csv'\n",
    "path_til = '../data/wikidata/wd_species_df_tillman.csv'\n",
    "\n",
    "\n",
    "# import\n",
    "from wd_species import *\n",
    "import pandas as pd"
   ]
  },
  {
   "cell_type": "markdown",
   "metadata": {},
   "source": [
    "## Dataframe Preprocessing \n",
    "Combine dataframes and deduplicate them"
   ]
  },
  {
   "cell_type": "code",
   "execution_count": 2,
   "metadata": {},
   "outputs": [
    {
     "name": "stdout",
     "output_type": "stream",
     "text": [
      "Dataframe length before deduplication:  152399\n",
      "Dataframe length after deduplication:  150724\n"
     ]
    }
   ],
   "source": [
    "# read in and concaneate dataframes\n",
    "df = pd.read_csv(path_kev)\n",
    "df = pd.concat([df, pd.read_csv(path_til)])\n",
    "\n",
    "\n",
    "print('Dataframe length before deduplication: ', df.shape[0])\n",
    "\n",
    "# deduplicate dataframes\n",
    "df = df.drop_duplicates()\n",
    "\n",
    "\n",
    "print('Dataframe length after deduplication: ', df.shape[0])\n",
    "\n",
    "# write to dataframe path\n",
    "df.to_csv(getPathDF(),  index = False)"
   ]
  },
  {
   "cell_type": "markdown",
   "metadata": {},
   "source": [
    "## XML creation"
   ]
  },
  {
   "cell_type": "code",
   "execution_count": 3,
   "metadata": {},
   "outputs": [],
   "source": [
    "createXML()"
   ]
  },
  {
   "cell_type": "code",
   "execution_count": null,
   "metadata": {},
   "outputs": [],
   "source": []
  }
 ],
 "metadata": {
  "kernelspec": {
   "display_name": "Python 3",
   "language": "python",
   "name": "python3"
  },
  "language_info": {
   "codemirror_mode": {
    "name": "ipython",
    "version": 3
   },
   "file_extension": ".py",
   "mimetype": "text/x-python",
   "name": "python",
   "nbconvert_exporter": "python",
   "pygments_lexer": "ipython3",
   "version": "3.6.10"
  }
 },
 "nbformat": 4,
 "nbformat_minor": 4
}
